{
  "nbformat": 4,
  "nbformat_minor": 0,
  "metadata": {
    "colab": {
      "name": "Pseudo-Random Numbers.ipynb",
      "provenance": []
    },
    "kernelspec": {
      "name": "python3",
      "display_name": "Python 3"
    },
    "language_info": {
      "name": "python"
    }
  },
  "cells": [
    {
      "cell_type": "markdown",
      "source": [
        "<p><img alt=\"Yahoo logo\" height=\"60px\" src=\"https://www.ulacit.ac.cr/wp-content/uploads/Logo-Ulacit-Blanco.png\" align=\"left\" hspace=\"10px\" vspace=\"0px\"></p>"
      ],
      "metadata": {
        "id": "OgYMbUm0VlP-"
      }
    },
    {
      "cell_type": "markdown",
      "source": [
        "MIT License\n",
        "\n",
        "Profesor Alejandro Zamora"
      ],
      "metadata": {
        "id": "FCIjk10eXXc5"
      }
    },
    {
      "cell_type": "markdown",
      "source": [
        "67-0001\n",
        "criptografía"
      ],
      "metadata": {
        "id": "GhnQVTiNPytK"
      }
    },
    {
      "cell_type": "markdown",
      "source": [
        "### Pseudo-Random Numbers en Python. \\\n",
        "\n",
        "La biblioteca estándar de Python proporciona un módulo llamado aleatorio que ofrece un conjunto de funciones para generar números aleatorios."
      ],
      "metadata": {
        "id": "STVZpy7kt9Hw"
      }
    },
    {
      "cell_type": "code",
      "source": [
        "#Importación de libreria\n",
        "from random import random\n",
        "from random import randint\n",
        "seed(1)\n",
        "# Generando numeros pseudo-aleatorios.\n",
        "print(random(), random(), random())"
      ],
      "metadata": {
        "colab": {
          "base_uri": "https://localhost:8080/"
        },
        "id": "B7yWA63Vue2e",
        "outputId": "ca1a7174-016c-44fa-f424-3aaffaf9efe5"
      },
      "execution_count": 9,
      "outputs": [
        {
          "output_type": "stream",
          "name": "stdout",
          "text": [
            "0.13436424411240122 0.8474337369372327 0.763774618976614\n"
          ]
        }
      ]
    },
    {
      "cell_type": "code",
      "source": [
        "# generate some integers\n",
        "for _ in range(10):\n",
        "\tvalue = randint(0, 10)\n",
        "\tprint(value)"
      ],
      "metadata": {
        "colab": {
          "base_uri": "https://localhost:8080/"
        },
        "id": "xLIZMdX1u9jN",
        "outputId": "b4c231b6-0b67-410b-cb89-323d45a1be25"
      },
      "execution_count": 10,
      "outputs": [
        {
          "output_type": "stream",
          "name": "stdout",
          "text": [
            "4\n",
            "1\n",
            "7\n",
            "7\n",
            "7\n",
            "10\n",
            "6\n",
            "3\n",
            "1\n",
            "7\n"
          ]
        }
      ]
    },
    {
      "cell_type": "code",
      "execution_count": 11,
      "metadata": {
        "colab": {
          "base_uri": "https://localhost:8080/"
        },
        "id": "eLad4IHktR2l",
        "outputId": "495d4116-7829-4003-cb5c-f6a8a157ddc1"
      },
      "outputs": [
        {
          "output_type": "stream",
          "name": "stdout",
          "text": [
            "[0, 1, 2, 3, 4, 5, 6, 7, 8, 9, 10, 11, 12, 13, 14, 15, 16, 17, 18, 19, 20, 21, 22, 23, 24, 25, 26, 27, 28, 29, 30, 31, 32, 33, 34, 35, 36, 37, 38, 39, 40, 41, 42, 43, 44, 45, 46, 47, 48, 49]\n",
            "[8, 36, 48, 4, 16]\n"
          ]
        }
      ],
      "source": [
        "# Importanción de librerías\n",
        "from random import seed\n",
        "from random import sample\n",
        "# seed random number generator\n",
        "seed(1)\n",
        "# Secuencia de iteración \n",
        "sequence = [i for i in range(50)]\n",
        "print(sequence)\n",
        "# select a subset without replacement\n",
        "subset = sample(sequence, 5)\n",
        "print(subset)"
      ]
    },
    {
      "cell_type": "markdown",
      "source": [
        "### PNRG"
      ],
      "metadata": {
        "id": "12T0T_v4vgBi"
      }
    },
    {
      "cell_type": "markdown",
      "source": [
        "Se genera una secuencia de numeros de logintud 20. "
      ],
      "metadata": {
        "id": "nZPxo1TQylmG"
      }
    },
    {
      "cell_type": "code",
      "source": [
        "# Importanción de librerías\n",
        "from random import seed\n",
        "from random import sample\n",
        "# seed random number generator\n",
        "seed(1)\n",
        "# Secuencia de iteración \n",
        "sequence = [i for i in range(26)]  #De aqui obtendremos posiciones aleatorias de un arreglo del abecedario.\n",
        "print(sequence)"
      ],
      "metadata": {
        "colab": {
          "base_uri": "https://localhost:8080/"
        },
        "id": "ut9giVE2viFV",
        "outputId": "db1901a0-6b5b-447f-c378-64b831845cc7"
      },
      "execution_count": 32,
      "outputs": [
        {
          "output_type": "stream",
          "name": "stdout",
          "text": [
            "[0, 1, 2, 3, 4, 5, 6, 7, 8, 9, 10, 11, 12, 13, 14, 15, 16, 17, 18, 19, 20, 21, 22, 23, 24, 25]\n"
          ]
        }
      ]
    },
    {
      "cell_type": "markdown",
      "source": [
        "Se selecciona una muestra pseudo-aleatoria de la semilla"
      ],
      "metadata": {
        "id": "neVxmZI0yiA5"
      }
    },
    {
      "cell_type": "code",
      "source": [
        "subset = sample(sequence, 5)\n",
        "print(subset)"
      ],
      "metadata": {
        "colab": {
          "base_uri": "https://localhost:8080/"
        },
        "id": "4Nh_JS13ySyb",
        "outputId": "c0577e48-a917-40ba-c264-de1eda8ad16a"
      },
      "execution_count": 46,
      "outputs": [
        {
          "output_type": "stream",
          "name": "stdout",
          "text": [
            "[19, 24, 0, 22, 14]\n"
          ]
        }
      ]
    },
    {
      "cell_type": "markdown",
      "source": [
        "Abacederio"
      ],
      "metadata": {
        "id": "JeG2n9ZQyfXh"
      }
    },
    {
      "cell_type": "code",
      "source": [
        "abecedario = ['a','b','c','d', 'e', 'f', 'g', 'h', 'i', 'j', 'k', 'l', 'm', 'n', 'ñ', 'o', 'p', 'q', 'r', 's', 't', 'u', 'v', 'w', 'x', 'y', 'z']"
      ],
      "metadata": {
        "id": "1yUkfP_MyUX9"
      },
      "execution_count": 36,
      "outputs": []
    },
    {
      "cell_type": "code",
      "source": [
        "new_key = []"
      ],
      "metadata": {
        "id": "hbHIwMUAyfAM"
      },
      "execution_count": 47,
      "outputs": []
    },
    {
      "cell_type": "code",
      "source": [
        "for i in range(len(subset)):\n",
        "  new_key.append(abecedario[subset[i]])"
      ],
      "metadata": {
        "id": "3YnWLwVcyx6T"
      },
      "execution_count": 48,
      "outputs": []
    },
    {
      "cell_type": "code",
      "source": [
        "print(new_key)"
      ],
      "metadata": {
        "colab": {
          "base_uri": "https://localhost:8080/"
        },
        "id": "FZ6SYwPdycfN",
        "outputId": "3dffc5fc-f6df-45ae-c545-c4d7ad6bb1e9"
      },
      "execution_count": 56,
      "outputs": [
        {
          "output_type": "stream",
          "name": "stdout",
          "text": [
            "['s', 'x', 'a', 'v', 'ñ']\n"
          ]
        }
      ]
    },
    {
      "cell_type": "markdown",
      "source": [
        "Funcion para convertir list en string"
      ],
      "metadata": {
        "id": "wyqX3C37zwJu"
      }
    },
    {
      "cell_type": "code",
      "source": [
        "def listToString(s): \n",
        "    \n",
        "    # initialize an empty string\n",
        "    str1 = \"\" \n",
        "    \n",
        "    # traverse in the string  \n",
        "    for ele in s: \n",
        "        str1 += ele  \n",
        "    \n",
        "    # return string  \n",
        "    return str1 "
      ],
      "metadata": {
        "id": "E9A-YWFazvjO"
      },
      "execution_count": 51,
      "outputs": []
    },
    {
      "cell_type": "code",
      "source": [
        "key = listToString(new_key)\n",
        "key"
      ],
      "metadata": {
        "colab": {
          "base_uri": "https://localhost:8080/",
          "height": 35
        },
        "id": "MF-z03iXz0ZX",
        "outputId": "69ee4a20-750a-41c1-b5c7-1780d6279198"
      },
      "execution_count": 55,
      "outputs": [
        {
          "output_type": "execute_result",
          "data": {
            "application/vnd.google.colaboratory.intrinsic+json": {
              "type": "string"
            },
            "text/plain": [
              "'sxavñ'"
            ]
          },
          "metadata": {},
          "execution_count": 55
        }
      ]
    },
    {
      "cell_type": "markdown",
      "source": [
        "Referencias: https://machinelearningmastery.com/how-to-generate-random-numbers-in-python/"
      ],
      "metadata": {
        "id": "kANI89xt0bPV"
      }
    }
  ]
}