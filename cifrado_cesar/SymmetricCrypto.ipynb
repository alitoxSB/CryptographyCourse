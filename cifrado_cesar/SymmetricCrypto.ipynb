{
  "nbformat": 4,
  "nbformat_minor": 0,
  "metadata": {
    "colab": {
      "name": "SymmetricCrypto.ipynb",
      "provenance": []
    },
    "kernelspec": {
      "name": "python3",
      "display_name": "Python 3"
    },
    "language_info": {
      "name": "python"
    }
  },
  "cells": [
    {
      "cell_type": "markdown",
      "source": [
        "<p><img alt=\"Yahoo logo\" height=\"60px\" src=\"https://www.ulacit.ac.cr/wp-content/uploads/Logo-Ulacit-Blanco.png\" align=\"left\" hspace=\"10px\" vspace=\"0px\"></p>"
      ],
      "metadata": {
        "id": "OgYMbUm0VlP-"
      }
    },
    {
      "cell_type": "markdown",
      "source": [
        "MIT License\n",
        "\n",
        "Profesor Alejandro Zamora"
      ],
      "metadata": {
        "id": "FCIjk10eXXc5"
      }
    },
    {
      "cell_type": "markdown",
      "source": [
        "### 1. Cifrado de Cesar\n",
        "La técnica del Cifrado César es uno de los métodos más antiguos y sencillos de técnica de cifrado. Es simplemente un tipo de cifrado de sustitución, es decir, cada letra de un texto dado se reemplaza por una letra en un número fijo de posiciones hacia abajo en el alfabeto. Por ejemplo, con un cambio de 1, A sería reemplazada por B, B se convertiría en C, y así sucesivamente. Aparentemente, el método lleva el nombre de Julio César, quien aparentemente lo usó para comunicarse con sus funcionarios."
      ],
      "metadata": {
        "id": "U29077kWI4Is"
      }
    },
    {
      "cell_type": "markdown",
      "source": [
        "Ejemplo : \n",
        " \n",
        "Text : ABCDEFGHIJKLMNOPQRSTUVWXYZ \\\\\n",
        "Shift: 23 \\\\\n",
        "Cipher: XYZABCDEFGHIJKLMNOPQRSTUVW\n",
        "\n",
        "Text : ATTACKATONCE \\\\\n",
        "Shift: 4 \\\\\n",
        "Cipher: EXXEGOEXSRGI"
      ],
      "metadata": {
        "id": "goGDyVDDJGUA"
      }
    },
    {
      "cell_type": "markdown",
      "source": [
        "fuente: https://www.geeksforgeeks.org/caesar-cipher-in-cryptography/"
      ],
      "metadata": {
        "id": "3bUEajuGJU9B"
      }
    },
    {
      "cell_type": "code",
      "source": [
        "#A python program to illustrate Caesar Cipher Technique\n",
        "def encrypt(text,s):\n",
        "    result = \"\"\n",
        " \n",
        "    # traverse text\n",
        "    for i in range(len(text)):\n",
        "        char = text[i]\n",
        " \n",
        "        # Encrypt uppercase characters\n",
        "        if (char.isupper()):\n",
        "            result += chr((ord(char) + s-65) % 26 + 65)\n",
        " \n",
        "        # Encrypt lowercase characters\n",
        "        else:\n",
        "            result += chr((ord(char) + s - 97) % 26 + 97)\n",
        " \n",
        "    return result\n",
        " \n",
        "#check the above function\n",
        "text = \"ATTACKATONCE\"\n",
        "s = 4\n",
        "print (\"Text  : \" + text)\n",
        "print (\"Shift : \" + str(s))\n",
        "print (\"Cipher: \" + encrypt(text,s))"
      ],
      "metadata": {
        "colab": {
          "base_uri": "https://localhost:8080/"
        },
        "id": "e9PQrA1UI30N",
        "outputId": "461adc46-9ce0-436a-c09f-0085f10d9d85"
      },
      "execution_count": 1,
      "outputs": [
        {
          "output_type": "stream",
          "name": "stdout",
          "text": [
            "Text  : ATTACKATONCE\n",
            "Shift : 4\n",
            "Cipher: EXXEGOEXSRGI\n"
          ]
        }
      ]
    },
    {
      "cell_type": "markdown",
      "source": [
        "Echar un vistazo.\n",
        "*   https://www.ellaberintodefalken.com/2014/04/criptografia-python-pycrypto.html\n",
        "*   https://programmerclick.com/article/632197003/\n",
        "\n"
      ],
      "metadata": {
        "id": "enUQ8jpkJjF-"
      }
    }
  ]
}