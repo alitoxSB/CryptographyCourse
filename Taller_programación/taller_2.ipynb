{
  "nbformat": 4,
  "nbformat_minor": 0,
  "metadata": {
    "colab": {
      "name": "taller#2.ipynb",
      "provenance": []
    },
    "kernelspec": {
      "name": "python3",
      "display_name": "Python 3"
    },
    "language_info": {
      "name": "python"
    }
  },
  "cells": [
    {
      "cell_type": "markdown",
      "source": [
        "Menus"
      ],
      "metadata": {
        "id": "IR39l-r6WmEG"
      }
    },
    {
      "cell_type": "code",
      "execution_count": null,
      "metadata": {
        "id": "PQaYw1noWTjc"
      },
      "outputs": [],
      "source": [
        "def hola_mundo():\n",
        "  print(\"Hola mundo\")"
      ]
    },
    {
      "cell_type": "code",
      "source": [
        "def adios_mundo():\n",
        "  print(\"Adios Mundo\")"
      ],
      "metadata": {
        "id": "iXsieAdGYJ1k"
      },
      "execution_count": null,
      "outputs": []
    },
    {
      "cell_type": "code",
      "source": [
        "def menu(option):\n",
        "  if(option == 1):\n",
        "    hola_mundo()\n",
        "  elif(option ==2):\n",
        "    adios_mundo()"
      ],
      "metadata": {
        "id": "8lV9MKbWYPgN"
      },
      "execution_count": null,
      "outputs": []
    },
    {
      "cell_type": "markdown",
      "source": [
        "ejecucion"
      ],
      "metadata": {
        "id": "KJ5siW2yYtR9"
      }
    },
    {
      "cell_type": "code",
      "source": [
        "option = 0\n",
        "while(option!=3):\n",
        "  print(\" 1) Hola mundo \\n 2) Adios mundo \\n 3) Salir\")\n",
        "  option = int(input(\"Digite una opcion\"))\n",
        "  menu(option) "
      ],
      "metadata": {
        "id": "j40UihylYtCj"
      },
      "execution_count": null,
      "outputs": []
    },
    {
      "cell_type": "markdown",
      "source": [
        "\n",
        "\n",
        "---\n",
        "\n"
      ],
      "metadata": {
        "id": "0a7TqVcWaWt5"
      }
    },
    {
      "cell_type": "markdown",
      "source": [
        "UNICAMENTE enteros."
      ],
      "metadata": {
        "id": "4sTlZqKIa6Ul"
      }
    },
    {
      "cell_type": "code",
      "source": [
        "mensaje = 2323\n",
        "llave = 3231"
      ],
      "metadata": {
        "id": "gM01aUD5as-3"
      },
      "execution_count": null,
      "outputs": []
    },
    {
      "cell_type": "code",
      "source": [
        "def cifrado(mensaje, llave):\n",
        "  return mensaje * llave"
      ],
      "metadata": {
        "id": "-zPBDAdQai5K"
      },
      "execution_count": null,
      "outputs": []
    },
    {
      "cell_type": "code",
      "source": [
        "def descifrado(mensaje, llave):\n",
        "  return mensaje / llave"
      ],
      "metadata": {
        "id": "MNynTHV6avx7"
      },
      "execution_count": null,
      "outputs": []
    },
    {
      "cell_type": "code",
      "source": [
        "def menu(option):\n",
        "  if(option==1):\n",
        "    print(\"El ciphertext es: \", cifrado(mensaje, llave))\n",
        "  elif(option==2):\n",
        "    print(\"El mensaje es: \", descifrado(cifrado(mensaje, llave), llave))"
      ],
      "metadata": {
        "id": "LxHeE2R-bKw1"
      },
      "execution_count": null,
      "outputs": []
    },
    {
      "cell_type": "code",
      "source": [
        "option = 0\n",
        "while(option!=3):\n",
        "  print(\" 1) cifrar \\n 2) descifrar \\n 3) Salir\")\n",
        "  option = int(input(\"Digite una opcion\"))\n",
        "  menu(option) "
      ],
      "metadata": {
        "id": "TOk4q3DWbiuG"
      },
      "execution_count": null,
      "outputs": []
    }
  ]
}