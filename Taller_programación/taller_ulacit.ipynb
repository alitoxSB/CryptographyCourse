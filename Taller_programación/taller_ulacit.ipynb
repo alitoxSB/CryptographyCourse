{
  "nbformat": 4,
  "nbformat_minor": 0,
  "metadata": {
    "colab": {
      "name": "taller_ulacit.ipynb",
      "provenance": []
    },
    "kernelspec": {
      "name": "python3",
      "display_name": "Python 3"
    },
    "language_info": {
      "name": "python"
    }
  },
  "cells": [
    {
      "cell_type": "markdown",
      "source": [
        "Tipo de datos: Enteros"
      ],
      "metadata": {
        "id": "rbOwNRptUSms"
      }
    },
    {
      "cell_type": "code",
      "source": [
        "numero_jugadores = 11\n",
        "porteros = 2\n",
        "arbitros = 4"
      ],
      "metadata": {
        "id": "DNXGxgELTJCF"
      },
      "execution_count": 4,
      "outputs": []
    },
    {
      "cell_type": "code",
      "source": [
        "total_personas_cancha = (numero_jugadores*2) + porteros + arbitros"
      ],
      "metadata": {
        "id": "eGLgsu8nT7Mv"
      },
      "execution_count": 7,
      "outputs": []
    },
    {
      "cell_type": "code",
      "execution_count": 8,
      "metadata": {
        "colab": {
          "base_uri": "https://localhost:8080/"
        },
        "id": "6dJZUpxVQcTW",
        "outputId": "9b86aa4a-24f9-4bfc-dc3d-a61cae73c78f"
      },
      "outputs": [
        {
          "output_type": "stream",
          "name": "stdout",
          "text": [
            "28\n"
          ]
        }
      ],
      "source": [
        "print(total_personas_cancha)"
      ]
    },
    {
      "cell_type": "markdown",
      "source": [
        "Tipo de datos: Float"
      ],
      "metadata": {
        "id": "5oqwNcCvW16k"
      }
    },
    {
      "cell_type": "code",
      "source": [
        "peso_bola = 7.25"
      ],
      "metadata": {
        "id": "C8at2TPXWryn"
      },
      "execution_count": 22,
      "outputs": []
    },
    {
      "cell_type": "code",
      "source": [
        "inclinacion_tierra = 23.5555555554433883883838388"
      ],
      "metadata": {
        "id": "Z5g_S_qJXAJc"
      },
      "execution_count": 25,
      "outputs": []
    },
    {
      "cell_type": "code",
      "source": [
        "print(type(inclinacion_tierra))"
      ],
      "metadata": {
        "colab": {
          "base_uri": "https://localhost:8080/"
        },
        "id": "Fkzs-U0gXLIu",
        "outputId": "18eb5df8-de09-4bac-af43-79cfd80b9071"
      },
      "execution_count": 26,
      "outputs": [
        {
          "output_type": "stream",
          "name": "stdout",
          "text": [
            "<class 'float'>\n"
          ]
        }
      ]
    },
    {
      "cell_type": "markdown",
      "source": [
        "Tipo de datos: Strings"
      ],
      "metadata": {
        "id": "PACyhOQUUfDb"
      }
    },
    {
      "cell_type": "code",
      "source": [
        "mejor_jugador_del_mundo = 'Cristiano Ronaldo'"
      ],
      "metadata": {
        "id": "shQfe07QU_Fe"
      },
      "execution_count": 10,
      "outputs": []
    },
    {
      "cell_type": "code",
      "source": [
        "segundo_mejor = 'Messi'"
      ],
      "metadata": {
        "id": "Km5bea2WVYLP"
      },
      "execution_count": 15,
      "outputs": []
    },
    {
      "cell_type": "code",
      "source": [
        "print('El mejor jugador del mundo es: ' + mejor_jugador_del_mundo)"
      ],
      "metadata": {
        "colab": {
          "base_uri": "https://localhost:8080/"
        },
        "id": "HEv9-A8hVSMa",
        "outputId": "c3d70c7c-903f-49ff-fa9f-5d186e9f7097"
      },
      "execution_count": 14,
      "outputs": [
        {
          "output_type": "stream",
          "name": "stdout",
          "text": [
            "El mejor jugador del mundo es:  Cristiano Ronaldo\n"
          ]
        }
      ]
    },
    {
      "cell_type": "code",
      "source": [
        "print('El segund jugador del mundo es: ' + segundo_mejor)"
      ],
      "metadata": {
        "colab": {
          "base_uri": "https://localhost:8080/"
        },
        "id": "TBljnr7wVy8z",
        "outputId": "16efce2d-494e-4767-fc31-327a31af9880"
      },
      "execution_count": 16,
      "outputs": [
        {
          "output_type": "stream",
          "name": "stdout",
          "text": [
            "El segund jugador del mundo es: Messi\n"
          ]
        }
      ]
    },
    {
      "cell_type": "markdown",
      "source": [
        "Tipo de dato: Lista"
      ],
      "metadata": {
        "id": "WOFqAWH8YMY3"
      }
    },
    {
      "cell_type": "code",
      "source": [
        "x = [7, 8, 9]\n",
        "x[0] = 'Pepe'\n",
        "x[0]"
      ],
      "metadata": {
        "colab": {
          "base_uri": "https://localhost:8080/",
          "height": 35
        },
        "id": "7iOuZmDKYD8p",
        "outputId": "a794c1bf-6559-48eb-a395-275562ad3342"
      },
      "execution_count": 36,
      "outputs": [
        {
          "output_type": "execute_result",
          "data": {
            "application/vnd.google.colaboratory.intrinsic+json": {
              "type": "string"
            },
            "text/plain": [
              "'Pepe'"
            ]
          },
          "metadata": {},
          "execution_count": 36
        }
      ]
    },
    {
      "cell_type": "code",
      "source": [
        "names = ['Alice','Bob', 'Craig', 'Diana', 'Eric']\n",
        "names.append(\"Sia\")\n",
        "names.append(\"Carlos\")\n",
        "print(names)"
      ],
      "metadata": {
        "colab": {
          "base_uri": "https://localhost:8080/"
        },
        "id": "-gv5zQKvYE4N",
        "outputId": "deda0092-0ddd-487e-8344-6307d7a2d80b"
      },
      "execution_count": 44,
      "outputs": [
        {
          "output_type": "stream",
          "name": "stdout",
          "text": [
            "['Alice', 'Bob', 'Craig', 'Diana', 'Eric', 'Sia', 'Carlos']\n"
          ]
        }
      ]
    },
    {
      "cell_type": "code",
      "source": [
        "my_list = [1,2,3]\n",
        "my_set = set(my_list)"
      ],
      "metadata": {
        "colab": {
          "base_uri": "https://localhost:8080/"
        },
        "id": "TX4-a1FXYGG1",
        "outputId": "9e42f8ed-9f48-4ec1-c0a3-8e57cec7e396"
      },
      "execution_count": 43,
      "outputs": [
        {
          "output_type": "execute_result",
          "data": {
            "text/plain": [
              "set"
            ]
          },
          "metadata": {},
          "execution_count": 43
        }
      ]
    },
    {
      "cell_type": "markdown",
      "source": [
        "Operadores"
      ],
      "metadata": {
        "id": "he7X2moNbXvV"
      }
    },
    {
      "cell_type": "markdown",
      "source": [
        "suma"
      ],
      "metadata": {
        "id": "yoqVUQKDbsgL"
      }
    },
    {
      "cell_type": "code",
      "source": [
        "3 + 4"
      ],
      "metadata": {
        "colab": {
          "base_uri": "https://localhost:8080/"
        },
        "id": "6POsl3tHbXNg",
        "outputId": "e572a9a5-0fc2-488a-cb1d-220a9d52501d"
      },
      "execution_count": 45,
      "outputs": [
        {
          "output_type": "execute_result",
          "data": {
            "text/plain": [
              "7"
            ]
          },
          "metadata": {},
          "execution_count": 45
        }
      ]
    },
    {
      "cell_type": "code",
      "source": [
        "suma = 3 + 4\n",
        "print(suma)"
      ],
      "metadata": {
        "colab": {
          "base_uri": "https://localhost:8080/"
        },
        "id": "EF3s_62ubthV",
        "outputId": "1d8b946c-c263-43df-aba9-5a7e4d550cb6"
      },
      "execution_count": 47,
      "outputs": [
        {
          "output_type": "stream",
          "name": "stdout",
          "text": [
            "7\n"
          ]
        }
      ]
    },
    {
      "cell_type": "markdown",
      "source": [
        "Resta"
      ],
      "metadata": {
        "id": "fpBP439Rbyu3"
      }
    },
    {
      "cell_type": "code",
      "source": [
        "3 - 5"
      ],
      "metadata": {
        "colab": {
          "base_uri": "https://localhost:8080/"
        },
        "id": "oQUhdamobyR5",
        "outputId": "2ed1e0e3-a55e-4317-baef-1ad3c601d8d5"
      },
      "execution_count": 48,
      "outputs": [
        {
          "output_type": "execute_result",
          "data": {
            "text/plain": [
              "-2"
            ]
          },
          "metadata": {},
          "execution_count": 48
        }
      ]
    },
    {
      "cell_type": "code",
      "source": [
        "1 - 9 "
      ],
      "metadata": {
        "colab": {
          "base_uri": "https://localhost:8080/"
        },
        "id": "oN2Y3aCkb2jQ",
        "outputId": "e2d3f578-33b1-4165-b80f-deb0ed34d9ac"
      },
      "execution_count": 49,
      "outputs": [
        {
          "output_type": "execute_result",
          "data": {
            "text/plain": [
              "-8"
            ]
          },
          "metadata": {},
          "execution_count": 49
        }
      ]
    },
    {
      "cell_type": "code",
      "source": [
        "9 - 2"
      ],
      "metadata": {
        "colab": {
          "base_uri": "https://localhost:8080/"
        },
        "id": "Q87MaEgeb3qP",
        "outputId": "2417c3d1-ecfd-4d9d-911a-0850dd61cbc5"
      },
      "execution_count": 50,
      "outputs": [
        {
          "output_type": "execute_result",
          "data": {
            "text/plain": [
              "7"
            ]
          },
          "metadata": {},
          "execution_count": 50
        }
      ]
    },
    {
      "cell_type": "code",
      "source": [
        "resta = 9 - 2\n",
        "print(resta)"
      ],
      "metadata": {
        "colab": {
          "base_uri": "https://localhost:8080/"
        },
        "id": "dR74BFvOb5IG",
        "outputId": "7e8ef271-53f9-48f4-b09f-202e3bddcfbd"
      },
      "execution_count": 52,
      "outputs": [
        {
          "output_type": "stream",
          "name": "stdout",
          "text": [
            "7\n"
          ]
        }
      ]
    },
    {
      "cell_type": "markdown",
      "source": [
        "Multiplicacion"
      ],
      "metadata": {
        "id": "A0Sz3ttBb97l"
      }
    },
    {
      "cell_type": "code",
      "source": [
        "3 * 2"
      ],
      "metadata": {
        "colab": {
          "base_uri": "https://localhost:8080/"
        },
        "id": "_2MJzPwbb9uL",
        "outputId": "22ee0860-e6ab-47f3-b489-3485bada4e61"
      },
      "execution_count": 53,
      "outputs": [
        {
          "output_type": "execute_result",
          "data": {
            "text/plain": [
              "6"
            ]
          },
          "metadata": {},
          "execution_count": 53
        }
      ]
    },
    {
      "cell_type": "code",
      "source": [
        "5 * -2"
      ],
      "metadata": {
        "colab": {
          "base_uri": "https://localhost:8080/"
        },
        "id": "rtkkvSFPcBG_",
        "outputId": "7c6ba683-c3b3-43ae-f5b8-3c747245f17a"
      },
      "execution_count": 54,
      "outputs": [
        {
          "output_type": "execute_result",
          "data": {
            "text/plain": [
              "-10"
            ]
          },
          "metadata": {},
          "execution_count": 54
        }
      ]
    },
    {
      "cell_type": "markdown",
      "source": [
        "Division"
      ],
      "metadata": {
        "id": "uix60WXecOTW"
      }
    },
    {
      "cell_type": "code",
      "source": [
        "3 / 3"
      ],
      "metadata": {
        "colab": {
          "base_uri": "https://localhost:8080/"
        },
        "id": "DRobean_cP49",
        "outputId": "801e729f-e9bd-4de7-9300-5f9156786073"
      },
      "execution_count": 55,
      "outputs": [
        {
          "output_type": "execute_result",
          "data": {
            "text/plain": [
              "1.0"
            ]
          },
          "metadata": {},
          "execution_count": 55
        }
      ]
    },
    {
      "cell_type": "code",
      "source": [
        "340 / 3"
      ],
      "metadata": {
        "colab": {
          "base_uri": "https://localhost:8080/"
        },
        "id": "o0Wmvf66cTvv",
        "outputId": "16cd3f77-7e10-4293-b66c-cb20a1e61af1"
      },
      "execution_count": 56,
      "outputs": [
        {
          "output_type": "execute_result",
          "data": {
            "text/plain": [
              "113.33333333333333"
            ]
          },
          "metadata": {},
          "execution_count": 56
        }
      ]
    },
    {
      "cell_type": "code",
      "source": [
        "pepe = 40\n",
        "carlos = 10\n",
        "pepe / carlos"
      ],
      "metadata": {
        "colab": {
          "base_uri": "https://localhost:8080/"
        },
        "id": "Vbts081UcXXq",
        "outputId": "1bfbb856-3cc0-4781-ed1b-56331d16b21a"
      },
      "execution_count": 57,
      "outputs": [
        {
          "output_type": "execute_result",
          "data": {
            "text/plain": [
              "4.0"
            ]
          },
          "metadata": {},
          "execution_count": 57
        }
      ]
    },
    {
      "cell_type": "markdown",
      "source": [
        "Condicionales"
      ],
      "metadata": {
        "id": "tbUb3RA-dbJh"
      }
    },
    {
      "cell_type": "code",
      "source": [
        "x = int(input(\"Ingrese datos: \"))"
      ],
      "metadata": {
        "colab": {
          "base_uri": "https://localhost:8080/"
        },
        "id": "GukXuglud73q",
        "outputId": "db1fbe80-e152-48d5-c413-4877e20a9981"
      },
      "execution_count": 62,
      "outputs": [
        {
          "name": "stdout",
          "output_type": "stream",
          "text": [
            "Ingrese datos: 254656\n"
          ]
        }
      ]
    },
    {
      "cell_type": "code",
      "source": [
        "print(x)"
      ],
      "metadata": {
        "colab": {
          "base_uri": "https://localhost:8080/"
        },
        "id": "fXUTvnnceL7h",
        "outputId": "a95ff67b-43d8-4f5b-b24c-0403e0f4a8e3"
      },
      "execution_count": 63,
      "outputs": [
        {
          "output_type": "stream",
          "name": "stdout",
          "text": [
            "254656\n"
          ]
        }
      ]
    },
    {
      "cell_type": "code",
      "source": [
        "#Condicional if\n",
        "a = 200\n",
        "b = 200\n",
        "if b != a:\n",
        "  print(\"b es mayor que a\")\n",
        "else:\n",
        "  print(\"a es mayor que b\")"
      ],
      "metadata": {
        "colab": {
          "base_uri": "https://localhost:8080/"
        },
        "id": "UK_t9Es6dcOt",
        "outputId": "ef9d419a-dc15-468e-805c-ac8d772a92e4"
      },
      "execution_count": 69,
      "outputs": [
        {
          "output_type": "stream",
          "name": "stdout",
          "text": [
            "a es mayor que b\n"
          ]
        }
      ]
    },
    {
      "cell_type": "code",
      "source": [
        "#While\n",
        "i = 1\n",
        "while i < 6:\n",
        "  print(i)\n",
        "  i = i + 1"
      ],
      "metadata": {
        "colab": {
          "base_uri": "https://localhost:8080/"
        },
        "id": "RVDfYirodhEF",
        "outputId": "d1be763f-ad18-4d4d-8058-c0336e0c5a71"
      },
      "execution_count": 75,
      "outputs": [
        {
          "output_type": "stream",
          "name": "stdout",
          "text": [
            "1\n",
            "2\n",
            "3\n",
            "4\n",
            "5\n"
          ]
        }
      ]
    },
    {
      "cell_type": "markdown",
      "source": [
        "menu"
      ],
      "metadata": {
        "id": "xwG0AteRimLC"
      }
    },
    {
      "cell_type": "code",
      "source": [
        "menu = \"Hola bienvenido al Game of Life \\n 1) Jugar \\n 2) Salir\"\n",
        "opcion = 0\n",
        "while opcion != 2:\n",
        "  print(menu)\n",
        "  opcion = int(input(\"Digite una opcion\"))"
      ],
      "metadata": {
        "colab": {
          "base_uri": "https://localhost:8080/"
        },
        "id": "zEt_Kjplil2Z",
        "outputId": "c0fb2383-b044-4e8c-bc68-19eacc210249"
      },
      "execution_count": 80,
      "outputs": [
        {
          "name": "stdout",
          "output_type": "stream",
          "text": [
            "Hola bienvenido al Game of Life \n",
            " 1) Jugar \n",
            " 2) Salir\n",
            "Digite una opcion1\n",
            "Hola bienvenido al Game of Life \n",
            " 1) Jugar \n",
            " 2) Salir\n",
            "Digite una opcion2\n"
          ]
        }
      ]
    },
    {
      "cell_type": "code",
      "source": [
        "len(fruits)"
      ],
      "metadata": {
        "colab": {
          "base_uri": "https://localhost:8080/"
        },
        "id": "kYABINPziCYz",
        "outputId": "63c9bf30-d315-45f7-edb7-283cc85a0272"
      },
      "execution_count": 77,
      "outputs": [
        {
          "output_type": "execute_result",
          "data": {
            "text/plain": [
              "3"
            ]
          },
          "metadata": {},
          "execution_count": 77
        }
      ]
    },
    {
      "cell_type": "code",
      "source": [
        "#Bucle for\n",
        "fruits = [\"apple\", \"banana\", \"cherry\"]\n",
        "for x in fruits:\n",
        "  print(x)"
      ],
      "metadata": {
        "colab": {
          "base_uri": "https://localhost:8080/"
        },
        "id": "NXLfdJC2diFj",
        "outputId": "2af48038-62ff-4dd6-99a4-910212c4ac54"
      },
      "execution_count": 78,
      "outputs": [
        {
          "output_type": "stream",
          "name": "stdout",
          "text": [
            "apple\n",
            "banana\n",
            "cherry\n"
          ]
        }
      ]
    },
    {
      "cell_type": "markdown",
      "source": [
        "Funciones"
      ],
      "metadata": {
        "id": "VClZHjn-dkIg"
      }
    },
    {
      "cell_type": "code",
      "source": [
        "#Funciones\n",
        "def my_function(): \n",
        "  a = 2 \n",
        "  return a \n",
        "print(my_function())"
      ],
      "metadata": {
        "colab": {
          "base_uri": "https://localhost:8080/"
        },
        "id": "NyI1LbFbdjRC",
        "outputId": "0733fc6a-3563-4745-963a-83baafad081b"
      },
      "execution_count": 81,
      "outputs": [
        {
          "output_type": "stream",
          "name": "stdout",
          "text": [
            "2\n"
          ]
        }
      ]
    },
    {
      "cell_type": "code",
      "source": [
        "x1 = 2\n",
        "x2 = 2\n",
        "def function_1(x1,x2):\n",
        "  return x1+x2\n",
        "\n",
        "\n",
        "print(function_1(x1,x2))"
      ],
      "metadata": {
        "colab": {
          "base_uri": "https://localhost:8080/"
        },
        "id": "uCZYgkIYl0iv",
        "outputId": "c22c1e05-13ee-49b8-cc36-cee0d0c59488"
      },
      "execution_count": 84,
      "outputs": [
        {
          "output_type": "stream",
          "name": "stdout",
          "text": [
            "4\n"
          ]
        }
      ]
    },
    {
      "cell_type": "code",
      "source": [
        "opcion = 0\n",
        "def menu(opcion):\n",
        "  menu = \"Hola bienvenido al Game of Life \\n 1) Jugar \\n 2) Salir\"\n",
        "  while opcion != 2:\n",
        "    print(menu)\n",
        "    opcion = int(input(\"Digite una opcion\"))\n",
        "\n",
        "menu(opcion)"
      ],
      "metadata": {
        "colab": {
          "base_uri": "https://localhost:8080/"
        },
        "id": "6Qh7cEpkmJqW",
        "outputId": "985ca20c-3caf-40c8-df29-5a7d1593f366"
      },
      "execution_count": 86,
      "outputs": [
        {
          "name": "stdout",
          "output_type": "stream",
          "text": [
            "Hola bienvenido al Game of Life \n",
            " 1) Jugar \n",
            " 2) Salir\n",
            "Digite una opcion1\n",
            "Hola bienvenido al Game of Life \n",
            " 1) Jugar \n",
            " 2) Salir\n",
            "Digite una opcion1\n",
            "Hola bienvenido al Game of Life \n",
            " 1) Jugar \n",
            " 2) Salir\n",
            "Digite una opcion2\n"
          ]
        }
      ]
    },
    {
      "cell_type": "code",
      "source": [
        "from IPython.display import HTML\n",
        "\n",
        "HTML('<iframe width=\"761\" height=\"409\" src=\"https://www.youtube.com/embed/G2FCfQj-9ig?list=PLU8oAlHdN5BlvPxziopYZRd55pdqFwkeS\" title=\"YouTube video player\" frameborder=\"0\" allow=\"accelerometer; autoplay; clipboard-write; encrypted-media; gyroscope; picture-in-picture\" allowfullscreen></iframe>')"
      ],
      "metadata": {
        "colab": {
          "base_uri": "https://localhost:8080/",
          "height": 430
        },
        "id": "fdbQGZB4tlQk",
        "outputId": "861301c4-5a0f-409a-c736-b413ff8e4d86"
      },
      "execution_count": null,
      "outputs": [
        {
          "output_type": "execute_result",
          "data": {
            "text/html": [
              "<iframe width=\"761\" height=\"409\" src=\"https://www.youtube.com/embed/G2FCfQj-9ig?list=PLU8oAlHdN5BlvPxziopYZRd55pdqFwkeS\" title=\"YouTube video player\" frameborder=\"0\" allow=\"accelerometer; autoplay; clipboard-write; encrypted-media; gyroscope; picture-in-picture\" allowfullscreen></iframe>"
            ],
            "text/plain": [
              "<IPython.core.display.HTML object>"
            ]
          },
          "metadata": {},
          "execution_count": 5
        }
      ]
    },
    {
      "cell_type": "code",
      "source": [
        "from IPython.display import HTML\n",
        "\n",
        "HTML('<iframe width=\"727\" height=\"409\" src=\"https://www.youtube.com/embed/-oTSjJE-r7I\" title=\"YouTube video player\" frameborder=\"0\" allow=\"accelerometer; autoplay; clipboard-write; encrypted-media; gyroscope; picture-in-picture\" allowfullscreen></iframe>')"
      ],
      "metadata": {
        "colab": {
          "base_uri": "https://localhost:8080/",
          "height": 430
        },
        "id": "PVKdDXtXt7zk",
        "outputId": "b36e9ddf-f213-4511-9c39-a5f9cbc22580"
      },
      "execution_count": null,
      "outputs": [
        {
          "output_type": "execute_result",
          "data": {
            "text/html": [
              "<iframe width=\"727\" height=\"409\" src=\"https://www.youtube.com/embed/-oTSjJE-r7I\" title=\"YouTube video player\" frameborder=\"0\" allow=\"accelerometer; autoplay; clipboard-write; encrypted-media; gyroscope; picture-in-picture\" allowfullscreen></iframe>"
            ],
            "text/plain": [
              "<IPython.core.display.HTML object>"
            ]
          },
          "metadata": {},
          "execution_count": 6
        }
      ]
    }
  ]
}