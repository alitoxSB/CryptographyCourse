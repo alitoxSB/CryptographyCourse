{
  "nbformat": 4,
  "nbformat_minor": 0,
  "metadata": {
    "colab": {
      "name": "deffieHellman_simple_example.ipynb",
      "provenance": []
    },
    "kernelspec": {
      "name": "python3",
      "display_name": "Python 3"
    },
    "language_info": {
      "name": "python"
    }
  },
  "cells": [
    {
      "cell_type": "markdown",
      "source": [
        "<p><img alt=\"Yahoo logo\" height=\"60px\" src=\"https://www.ulacit.ac.cr/wp-content/uploads/Logo-Ulacit-Blanco.png\" align=\"left\" hspace=\"10px\" vspace=\"0px\"></p>"
      ],
      "metadata": {
        "id": "OgYMbUm0VlP-"
      }
    },
    {
      "cell_type": "markdown",
      "source": [
        "MIT License\n",
        "\n",
        "Profesor Alejandro Zamora"
      ],
      "metadata": {
        "id": "FCIjk10eXXc5"
      }
    },
    {
      "cell_type": "markdown",
      "source": [
        "### 1. Deffie-Hellman | Key Exchange\n",
        "El protocolo criptográfico Diffie-Hellman,​ debido a Whitfield Diffie y Martin Hellman (autores también del problema de Diffie-Hellman o DHP), es un protocolo de establecimiento de claves entre partes que no han tenido contacto previo, utilizando un canal inseguro y de manera anónima (no autenticada).\n",
        "\n",
        "Se emplea generalmente como medio para acordar claves simétricas que serán empleadas para el cifrado de una sesión (establecer clave de sesión). Siendo no autenticado, sin embargo, provee las bases para varios protocolos autenticados.\n",
        "\n",
        "Fuente: Wikipedia."
      ],
      "metadata": {
        "id": "U29077kWI4Is"
      }
    },
    {
      "cell_type": "code",
      "source": [
        "from random import randint"
      ],
      "metadata": {
        "colab": {
          "base_uri": "https://localhost:8080/"
        },
        "id": "e9PQrA1UI30N",
        "outputId": "713b016a-082c-4d84-b7de-bdfe3c8c6718"
      },
      "execution_count": 1,
      "outputs": [
        {
          "output_type": "stream",
          "name": "stdout",
          "text": [
            "The Value of P is :23\n",
            "The Value of G is :9\n",
            "The Private Key a for Alice is :4\n",
            "The Private Key b for Bob is :3\n",
            "Secret key for the Alice is : 9\n",
            "Secret Key for the Bob is : 9\n"
          ]
        }
      ]
    },
    {
      "cell_type": "code",
      "source": [
        "# Both the persons will be agreed upon the\n",
        "# public keys G and P\n",
        "# A prime number P is taken\n",
        "P = 23\n",
        "# A primitive root for P, G is taken\n",
        "G = 9\n",
        "#------------------------------------------\n",
        "print('The Value of P is :%d'%(P))\n",
        "print('The Value of G is :%d'%(G))"
      ],
      "metadata": {
        "colab": {
          "base_uri": "https://localhost:8080/"
        },
        "id": "yMSvKEtK-AbA",
        "outputId": "a84aab99-7be1-499c-c248-c5874f0902f0"
      },
      "execution_count": 2,
      "outputs": [
        {
          "output_type": "stream",
          "name": "stdout",
          "text": [
            "The Value of P is :23\n",
            "The Value of G is :9\n"
          ]
        }
      ]
    },
    {
      "cell_type": "markdown",
      "source": [
        "Alice Key"
      ],
      "metadata": {
        "id": "e-huQVaq-laN"
      }
    },
    {
      "cell_type": "code",
      "source": [
        "# Alice will choose the private key a\n",
        "a = 4\n",
        "print('The Private Key a for Alice is :%d'%(a))"
      ],
      "metadata": {
        "colab": {
          "base_uri": "https://localhost:8080/"
        },
        "id": "XyLZCwsL-MGS",
        "outputId": "cac62cf4-776a-4092-d5c3-4682b8ea387f"
      },
      "execution_count": 3,
      "outputs": [
        {
          "output_type": "stream",
          "name": "stdout",
          "text": [
            "The Private Key a for Alice is :4\n"
          ]
        }
      ]
    },
    {
      "cell_type": "code",
      "source": [
        " # gets the generated key\n",
        "x = int(pow(G,a,P)) \n",
        "print(x)"
      ],
      "metadata": {
        "colab": {
          "base_uri": "https://localhost:8080/"
        },
        "id": "RsSherB--RJM",
        "outputId": "60666841-c02e-4d1c-adbb-aa6a5191fcab"
      },
      "execution_count": 5,
      "outputs": [
        {
          "output_type": "stream",
          "name": "stdout",
          "text": [
            "6\n"
          ]
        }
      ]
    },
    {
      "cell_type": "markdown",
      "source": [
        "Bobs Key"
      ],
      "metadata": {
        "id": "IuyTr09s-m0n"
      }
    },
    {
      "cell_type": "code",
      "source": [
        "# Bob will choose the private key b\n",
        "b = 3\n",
        "print('The Private Key b for Bob is :%d'%(b))"
      ],
      "metadata": {
        "colab": {
          "base_uri": "https://localhost:8080/"
        },
        "id": "zrA4Nn4x-oV7",
        "outputId": "ff52a4d8-d04f-4d6c-9f36-3f97537d3ed4"
      },
      "execution_count": 6,
      "outputs": [
        {
          "output_type": "stream",
          "name": "stdout",
          "text": [
            "The Private Key b for Bob is :3\n"
          ]
        }
      ]
    },
    {
      "cell_type": "code",
      "source": [
        "# gets the generated key\n",
        "y = int(pow(G,b,P)) \n",
        "print(y)"
      ],
      "metadata": {
        "colab": {
          "base_uri": "https://localhost:8080/"
        },
        "id": "bWpGpy6v-sXR",
        "outputId": "654af306-5039-4078-e543-dae5d7448ac5"
      },
      "execution_count": 7,
      "outputs": [
        {
          "output_type": "stream",
          "name": "stdout",
          "text": [
            "16\n"
          ]
        }
      ]
    },
    {
      "cell_type": "markdown",
      "source": [
        "LLaves secretas de ambos"
      ],
      "metadata": {
        "id": "NjP6gG60-xU_"
      }
    },
    {
      "cell_type": "code",
      "source": [
        "# Secret key for Alice\n",
        "ka = int(pow(y,a,P))\n",
        "     \n",
        "# Secret key for Bob\n",
        "kb = int(pow(x,b,P))\n",
        "     \n",
        "print('Secret key for the Alice is : %d'%(ka))\n",
        "print('Secret Key for the Bob is : %d'%(kb))"
      ],
      "metadata": {
        "colab": {
          "base_uri": "https://localhost:8080/"
        },
        "id": "UcUD9I0P-ysg",
        "outputId": "594ea4ec-86a1-4422-e632-bb15d2f8416e"
      },
      "execution_count": 8,
      "outputs": [
        {
          "output_type": "stream",
          "name": "stdout",
          "text": [
            "Secret key for the Alice is : 9\n",
            "Secret Key for the Bob is : 9\n"
          ]
        }
      ]
    },
    {
      "cell_type": "markdown",
      "source": [
        "fuente del codigo: https://www.geeksforgeeks.org/implementation-diffie-hellman-algorithm/"
      ],
      "metadata": {
        "id": "LDM7nxtE-7EH"
      }
    }
  ]
}