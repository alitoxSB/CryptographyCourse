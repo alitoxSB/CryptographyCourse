{
  "nbformat": 4,
  "nbformat_minor": 0,
  "metadata": {
    "colab": {
      "name": "Cryptography.ipynb",
      "provenance": [],
      "collapsed_sections": []
    },
    "kernelspec": {
      "name": "python3",
      "display_name": "Python 3"
    },
    "language_info": {
      "name": "python"
    }
  },
  "cells": [
    {
      "cell_type": "markdown",
      "source": [
        "<p><img alt=\"Yahoo logo\" height=\"60px\" src=\"https://www.ulacit.ac.cr/wp-content/uploads/Logo-Ulacit-Blanco.png\" align=\"left\" hspace=\"10px\" vspace=\"0px\"></p>"
      ],
      "metadata": {
        "id": "OgYMbUm0VlP-"
      }
    },
    {
      "cell_type": "markdown",
      "source": [
        "MIT License\n",
        "\n",
        "Profesor Alejandro Zamora"
      ],
      "metadata": {
        "id": "FCIjk10eXXc5"
      }
    },
    {
      "cell_type": "markdown",
      "source": [
        "67-0001\n",
        "criptografía"
      ],
      "metadata": {
        "id": "GhnQVTiNPytK"
      }
    },
    {
      "cell_type": "markdown",
      "source": [
        "### Primeros pasos en criptografía con Python"
      ],
      "metadata": {
        "id": "Stx637vtNnUt"
      }
    },
    {
      "cell_type": "markdown",
      "source": [
        "### ¿Cómo funciona el cifrado de Shannon? \n",
        "Un cifrado de Shannon, inventado por su homónimo Claude Shannon (1916-2001) es un mecanismo de cifrado simplificado para cifrar un mensaje utilizando una clave secreta compartida. Un cifrado generalmente se define simplemente como un algoritmo para realizar el cifrado o descifrado, es decir, \"una serie de pasos bien definidos que se pueden seguir como un procedimiento\".\n",
        "\n"
      ],
      "metadata": {
        "id": "03jtoETiUBMy"
      }
    },
    {
      "cell_type": "markdown",
      "source": [
        " ℇ = c(m,k)"
      ],
      "metadata": {
        "id": "VTrIlbeKV0Tu"
      }
    },
    {
      "cell_type": "markdown",
      "source": [
        "La función de Shannon es la principal para cifrar y descifrar información. Un cifrado de Shannon es un par ε = (E, D) de funciones de cifrado (E) y funciones de descifrado (D): Si queremos cifrar un mensaje m, la función de cifrado E toma como entrada una clave k y un mensaje m, para generar un texto encriptado c. Entonces c = E (k, m), escrito como \"c\" es el cifrado de \"m\" debajo de \"k\". Una de las formas primitivas de cifrar es mediante la función XOR. \n"
      ],
      "metadata": {
        "id": "gU0x0UDkU2cz"
      }
    },
    {
      "cell_type": "markdown",
      "source": [
        "#### Ejemplo práctico en Python 🐍\n",
        "\n",
        "Primero, declararemos las variables que nos sirvirán para generar el cifrado de Shannon.\n"
      ],
      "metadata": {
        "id": "Gl3trpIVVwBJ"
      }
    },
    {
      "cell_type": "markdown",
      "source": [
        "\n",
        "\n",
        "*   Mensaje que vamos a cifrar (m)\n",
        "\n"
      ],
      "metadata": {
        "id": "DqTXz3FdWRIL"
      }
    },
    {
      "cell_type": "code",
      "execution_count": 1,
      "metadata": {
        "id": "yLZHOk4uS7bH"
      },
      "outputs": [],
      "source": [
        "mensaje = \"Mensaje a encriptar\""
      ]
    },
    {
      "cell_type": "markdown",
      "source": [
        "\n",
        "*   Llave (key)"
      ],
      "metadata": {
        "id": "8cyP3E6TWaLN"
      }
    },
    {
      "cell_type": "code",
      "source": [
        "llave = \"encrypt message jaja\""
      ],
      "metadata": {
        "id": "2uUq0gKZWUz8"
      },
      "execution_count": 2,
      "outputs": []
    },
    {
      "cell_type": "markdown",
      "source": [
        "### *   Función de cifrado"
      ],
      "metadata": {
        "id": "aMB82ExEiGz3"
      }
    },
    {
      "cell_type": "markdown",
      "source": [
        "Recordemos que la función de cifrado de Shannon, es una función (en este caso) XOR, la cual se aplica entre la llave y el mensaje a cifrar. Esta función tiene como resultado el mensaje cifrado."
      ],
      "metadata": {
        "id": "dA_YZht3jsEH"
      }
    },
    {
      "cell_type": "markdown",
      "source": [
        "\\begin{gather*} \n",
        "c=E(k,m) \n",
        "\\end{gather*}"
      ],
      "metadata": {
        "id": "Wo9mF9sxjFtv"
      }
    },
    {
      "cell_type": "code",
      "source": [
        "def c(llave, mensaje):\n",
        "  return [chr(ord(a) ^ ord(b)) for (a,b) in zip(mensaje, llave)]"
      ],
      "metadata": {
        "id": "K3bKOqHwknBq"
      },
      "execution_count": 3,
      "outputs": []
    },
    {
      "cell_type": "code",
      "source": [
        "mensaje_encriptado = \"\".join(c(llave, mensaje))"
      ],
      "metadata": {
        "id": "tGWecMrQ1uUP"
      },
      "execution_count": 4,
      "outputs": []
    },
    {
      "cell_type": "markdown",
      "source": [
        "Resultado 🎉"
      ],
      "metadata": {
        "id": "43u4zjFTiOIc"
      }
    },
    {
      "cell_type": "code",
      "source": [
        "mensaje_encriptado"
      ],
      "metadata": {
        "colab": {
          "base_uri": "https://localhost:8080/",
          "height": 35
        },
        "id": "mkuMqV1lNVrJ",
        "outputId": "45735a37-a0d4-41f5-faa3-cc9cd831169c"
      },
      "execution_count": 5,
      "outputs": [
        {
          "output_type": "execute_result",
          "data": {
            "application/vnd.google.colaboratory.intrinsic+json": {
              "type": "string"
            },
            "text/plain": [
              "'(\\x0b\\r\\x01\\x18\\x1a\\x11\\x00\\x0cE\\x16\\x1d\\x02\\x15\\x0cP\\x1e\\x00\\x18'"
            ]
          },
          "metadata": {},
          "execution_count": 5
        }
      ]
    },
    {
      "cell_type": "markdown",
      "source": [
        "Descriptar ⚙"
      ],
      "metadata": {
        "id": "bo6l1a5XNef7"
      }
    },
    {
      "cell_type": "code",
      "source": [
        "decrypted = [chr(ord(a) ^ ord(b)) for (a,b) in zip(mensaje_encriptado, llave)]"
      ],
      "metadata": {
        "id": "f1rGDAlNNCiY"
      },
      "execution_count": 7,
      "outputs": []
    },
    {
      "cell_type": "markdown",
      "source": [
        "Resultado 🎉"
      ],
      "metadata": {
        "id": "_VMVgHJZUnS5"
      }
    },
    {
      "cell_type": "code",
      "source": [
        "\"\".join(decrypted)"
      ],
      "metadata": {
        "colab": {
          "base_uri": "https://localhost:8080/",
          "height": 35
        },
        "id": "sukS1sdA2cUC",
        "outputId": "15f10c51-aa38-4386-b988-156b00803c81"
      },
      "execution_count": 8,
      "outputs": [
        {
          "output_type": "execute_result",
          "data": {
            "application/vnd.google.colaboratory.intrinsic+json": {
              "type": "string"
            },
            "text/plain": [
              "'Mensaje a encriptar'"
            ]
          },
          "metadata": {},
          "execution_count": 8
        }
      ]
    },
    {
      "cell_type": "markdown",
      "source": [
        "\n",
        "\n",
        "---\n",
        "\n"
      ],
      "metadata": {
        "id": "qe-IbFPy3WkJ"
      }
    }
  ]
}