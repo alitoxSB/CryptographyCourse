{
  "nbformat": 4,
  "nbformat_minor": 0,
  "metadata": {
    "colab": {
      "name": "operadores booleanos.ipynb",
      "provenance": []
    },
    "kernelspec": {
      "name": "python3",
      "display_name": "Python 3"
    },
    "language_info": {
      "name": "python"
    }
  },
  "cells": [
    {
      "cell_type": "markdown",
      "source": [
        "<p><img alt=\"Yahoo logo\" height=\"60px\" src=\"https://www.ulacit.ac.cr/wp-content/uploads/Logo-Ulacit-Blanco.png\" align=\"left\" hspace=\"10px\" vspace=\"0px\"></p>"
      ],
      "metadata": {
        "id": "OgYMbUm0VlP-"
      }
    },
    {
      "cell_type": "markdown",
      "metadata": {
        "id": "wO-2zsXoZAvc"
      },
      "source": [
        "# Operadores Booleanos\n",
        "\n",
        "La actual computación basa sus operaciones más fundamentales en la lógica Booleana, en donde también sale a relucir los conceptos relacionados de compuertas lógicas. En este documento podemos encontrar los operadores lógicos en Python (A través de `True` o `False`)."
      ]
    },
    {
      "cell_type": "markdown",
      "source": [
        "MIT License\n",
        "\n",
        "Profesor Alejandro Zamora"
      ],
      "metadata": {
        "id": "FCIjk10eXXc5"
      }
    },
    {
      "cell_type": "markdown",
      "source": [
        "67-0001\n",
        "criptografía"
      ],
      "metadata": {
        "id": "GhnQVTiNPytK"
      }
    },
    {
      "cell_type": "markdown",
      "source": [
        "\n",
        "\n",
        "---\n",
        "\n"
      ],
      "metadata": {
        "id": "YuYFIvMUINcl"
      }
    },
    {
      "cell_type": "markdown",
      "source": [
        "Consultamos con la funcion Type, cual es el tipado de los datos True y False."
      ],
      "metadata": {
        "id": "uLBzhf1nIH9g"
      }
    },
    {
      "cell_type": "code",
      "metadata": {
        "id": "gQchT0G1ZbTu",
        "outputId": "c778222f-7698-4bce-a5fb-ce6ccfe63ffa",
        "colab": {
          "base_uri": "https://localhost:8080/"
        }
      },
      "source": [
        "type(True)"
      ],
      "execution_count": 3,
      "outputs": [
        {
          "output_type": "execute_result",
          "data": {
            "text/plain": [
              "bool"
            ]
          },
          "metadata": {},
          "execution_count": 3
        }
      ]
    },
    {
      "cell_type": "code",
      "source": [
        "type(False)"
      ],
      "metadata": {
        "colab": {
          "base_uri": "https://localhost:8080/"
        },
        "id": "nquxF2DaIFeE",
        "outputId": "a118f21b-d646-4bda-921b-ecbd2f13e3e1"
      },
      "execution_count": null,
      "outputs": [
        {
          "output_type": "execute_result",
          "data": {
            "text/plain": [
              "bool"
            ]
          },
          "metadata": {},
          "execution_count": 8
        }
      ]
    },
    {
      "cell_type": "markdown",
      "metadata": {
        "id": "zDV9Nk6YrCDi"
      },
      "source": [
        "## Operadores Booleanos\n",
        "\n",
        "### Negación (`not`)\n",
        "\n",
        "La negación devuelve `False` cuando es aplicada sobre un `True` y viceversa. Es un operador unario. Es decir, sólo necesita un operando para devolver un resultado."
      ]
    },
    {
      "cell_type": "code",
      "metadata": {
        "id": "anz7MCkEG-GR",
        "outputId": "6410ba43-4799-435c-fcf1-4031f03e8b90",
        "colab": {
          "base_uri": "https://localhost:8080/"
        }
      },
      "source": [
        "not False"
      ],
      "execution_count": 4,
      "outputs": [
        {
          "output_type": "execute_result",
          "data": {
            "text/plain": [
              "True"
            ]
          },
          "metadata": {},
          "execution_count": 4
        }
      ]
    },
    {
      "cell_type": "code",
      "metadata": {
        "id": "gi1oL9ejHGKH",
        "outputId": "593c4d62-c648-4ee3-85a3-0dc1b8673faa",
        "colab": {
          "base_uri": "https://localhost:8080/"
        }
      },
      "source": [
        "not True"
      ],
      "execution_count": 5,
      "outputs": [
        {
          "output_type": "execute_result",
          "data": {
            "text/plain": [
              "False"
            ]
          },
          "metadata": {},
          "execution_count": 5
        }
      ]
    },
    {
      "cell_type": "markdown",
      "metadata": {
        "id": "bU_1eDlScm2D"
      },
      "source": [
        "### Suma lógica (`or`)\n",
        "\n",
        "La suma lógica devuelve `True` siempre que alguno de sus operandos sea `True`. O lo que es lo mismo, devuelve `False` cuando ambos operando son `False`"
      ]
    },
    {
      "cell_type": "code",
      "metadata": {
        "id": "sMwW0Z1Fc8ol",
        "outputId": "b741262c-f605-401a-8193-e500e2b18861",
        "colab": {
          "base_uri": "https://localhost:8080/"
        }
      },
      "source": [
        "True or False"
      ],
      "execution_count": 6,
      "outputs": [
        {
          "output_type": "execute_result",
          "data": {
            "text/plain": [
              "True"
            ]
          },
          "metadata": {},
          "execution_count": 6
        }
      ]
    },
    {
      "cell_type": "code",
      "metadata": {
        "id": "dscFMYeUc_AB",
        "outputId": "6b960952-f4ea-431e-c034-4407d5fc3b41",
        "colab": {
          "base_uri": "https://localhost:8080/"
        }
      },
      "source": [
        "True or True"
      ],
      "execution_count": null,
      "outputs": [
        {
          "output_type": "execute_result",
          "data": {
            "text/plain": [
              "True"
            ]
          },
          "metadata": {},
          "execution_count": 12
        }
      ]
    },
    {
      "cell_type": "code",
      "metadata": {
        "id": "VEk4Y2V4dBTo",
        "outputId": "b6cab143-171d-4bc2-f228-107f5397a56a",
        "colab": {
          "base_uri": "https://localhost:8080/"
        }
      },
      "source": [
        "False or True"
      ],
      "execution_count": null,
      "outputs": [
        {
          "output_type": "execute_result",
          "data": {
            "text/plain": [
              "True"
            ]
          },
          "metadata": {},
          "execution_count": 13
        }
      ]
    },
    {
      "cell_type": "code",
      "metadata": {
        "id": "61GTdhsGdC69",
        "outputId": "7c54df71-3880-4866-b523-dfd5c9e18821",
        "colab": {
          "base_uri": "https://localhost:8080/"
        }
      },
      "source": [
        "False or False"
      ],
      "execution_count": null,
      "outputs": [
        {
          "output_type": "execute_result",
          "data": {
            "text/plain": [
              "False"
            ]
          },
          "metadata": {},
          "execution_count": 14
        }
      ]
    },
    {
      "cell_type": "markdown",
      "metadata": {
        "id": "N0Dcm0kidInP"
      },
      "source": [
        "### Producto lógico (`and`)\n",
        "\n",
        "El producto lógico devuelve `True` sólo si ambos operando son `True`. O lo que es lo mismo, si alguno de sus operandos es `False` el producto lógico devuelve `False`"
      ]
    },
    {
      "cell_type": "code",
      "metadata": {
        "id": "HYcoQiemdjiR",
        "outputId": "e98fa57e-8f2a-45ca-beb9-1d2255ece66f",
        "colab": {
          "base_uri": "https://localhost:8080/"
        }
      },
      "source": [
        "True and True"
      ],
      "execution_count": null,
      "outputs": [
        {
          "output_type": "execute_result",
          "data": {
            "text/plain": [
              "True"
            ]
          },
          "metadata": {},
          "execution_count": 15
        }
      ]
    },
    {
      "cell_type": "code",
      "metadata": {
        "id": "CcyIVgFqdl1a",
        "outputId": "1fc29fb2-4202-4f09-ec7b-3dab3a4ede92",
        "colab": {
          "base_uri": "https://localhost:8080/"
        }
      },
      "source": [
        "True and False"
      ],
      "execution_count": null,
      "outputs": [
        {
          "output_type": "execute_result",
          "data": {
            "text/plain": [
              "False"
            ]
          },
          "metadata": {},
          "execution_count": 17
        }
      ]
    },
    {
      "cell_type": "code",
      "metadata": {
        "id": "jif2AmCldqEM",
        "outputId": "4452d6d3-a1e7-440f-852b-90eb3f6e0837",
        "colab": {
          "base_uri": "https://localhost:8080/"
        }
      },
      "source": [
        "False and True"
      ],
      "execution_count": null,
      "outputs": [
        {
          "output_type": "execute_result",
          "data": {
            "text/plain": [
              "False"
            ]
          },
          "metadata": {},
          "execution_count": 18
        }
      ]
    },
    {
      "cell_type": "markdown",
      "metadata": {
        "id": "3QB27J7FJFyI"
      },
      "source": [
        "### Producto lógico (`XOR`)\n",
        "\n",
        "Si una salida verdadera resulta si una, y solo una de las entradas a la puerta es verdadera. Si ambas entradas son falsas o ambas son verdaderas, resulta en una salida falsa."
      ]
    },
    {
      "cell_type": "code",
      "source": [
        "a = bool(1)\n",
        "b = bool(0)\n",
        "print(a^b)"
      ],
      "metadata": {
        "colab": {
          "base_uri": "https://localhost:8080/"
        },
        "id": "k-T7PB79I7cx",
        "outputId": "af2002f5-dda9-4115-97af-ba7d99b358fb"
      },
      "execution_count": null,
      "outputs": [
        {
          "output_type": "stream",
          "name": "stdout",
          "text": [
            "True\n"
          ]
        }
      ]
    },
    {
      "cell_type": "code",
      "source": [
        "a and b"
      ],
      "metadata": {
        "colab": {
          "base_uri": "https://localhost:8080/"
        },
        "id": "9A6I00RPJKIs",
        "outputId": "1389853d-de11-4fde-f8a2-666beca70157"
      },
      "execution_count": null,
      "outputs": [
        {
          "output_type": "execute_result",
          "data": {
            "text/plain": [
              "False"
            ]
          },
          "metadata": {},
          "execution_count": 20
        }
      ]
    },
    {
      "cell_type": "code",
      "source": [
        "a or b"
      ],
      "metadata": {
        "colab": {
          "base_uri": "https://localhost:8080/"
        },
        "id": "iK0kcNujJMfp",
        "outputId": "13dc7e61-8c4d-48b6-e927-d0399894ee66"
      },
      "execution_count": null,
      "outputs": [
        {
          "output_type": "execute_result",
          "data": {
            "text/plain": [
              "True"
            ]
          },
          "metadata": {},
          "execution_count": 21
        }
      ]
    }
  ]
}